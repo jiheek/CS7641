{
 "cells": [
  {
   "cell_type": "markdown",
   "id": "4291ce90",
   "metadata": {},
   "source": [
    "# HW 4"
   ]
  },
  {
   "cell_type": "markdown",
   "id": "39307dc6",
   "metadata": {},
   "source": [
    "### Forest Management"
   ]
  },
  {
   "cell_type": "code",
   "execution_count": 82,
   "id": "ae24e0b5",
   "metadata": {},
   "outputs": [
    {
     "name": "stdout",
     "output_type": "stream",
     "text": [
      "Value Iteration \n",
      " iter: 39 / time: 0.0005939006805419922\n",
      "Policy Iteration \n",
      " iter: 10 / time: 0.04047107696533203\n",
      "Q Learning \n",
      " time: 0.0773169994354248\n"
     ]
    }
   ],
   "source": [
    "import mdptoolbox.example\n",
    "\n",
    "P, R = mdptoolbox.example.forest(S=50)\n",
    "\n",
    "vi = mdptoolbox.mdp.ValueIteration(P, R, 0.9)\n",
    "vi.run()\n",
    "print(\"Value Iteration\",\"\\n\",\"iter:\", vi.iter, \"/ time:\", vi.time)\n",
    "\n",
    "pi = mdptoolbox.mdp.PolicyIteration(P, R, 0.9)\n",
    "pi.run()\n",
    "print(\"Policy Iteration\",\"\\n\",\"iter:\", pi.iter, \"/ time:\", pi.time)\n",
    "\n",
    "ql = mdptoolbox.mdp.QLearning(P, R, 0.9) \n",
    "ql.run()\n",
    "print(\"Q Learning\",\"\\n\", \"time:\", ql.time)"
   ]
  },
  {
   "cell_type": "code",
   "execution_count": 83,
   "id": "c5ca599e",
   "metadata": {
    "scrolled": true
   },
   "outputs": [
    {
     "name": "stdout",
     "output_type": "stream",
     "text": [
      "Value Iteration \n",
      " iter: 39 / time: 0.0029637813568115234\n",
      "Policy Iteration \n",
      " iter: 10 / time: 0.05608010292053223\n",
      "Q Learning \n",
      " time: 0.15036702156066895\n"
     ]
    }
   ],
   "source": [
    "P, R = mdptoolbox.example.forest(S=500)\n",
    "\n",
    "vi = mdptoolbox.mdp.ValueIteration(P, R, 0.9)\n",
    "vi.run()\n",
    "print(\"Value Iteration\",\"\\n\",\"iter:\", vi.iter, \"/ time:\", vi.time)\n",
    "\n",
    "pi = mdptoolbox.mdp.PolicyIteration(P, R, 0.9)\n",
    "pi.run()\n",
    "print(\"Policy Iteration\",\"\\n\",\"iter:\", pi.iter, \"/ time:\", pi.time)\n",
    "\n",
    "ql = mdptoolbox.mdp.QLearning(P, R, 0.9) \n",
    "ql.run()\n",
    "print(\"Q Learning\",\"\\n\", \"time:\", ql.time)"
   ]
  },
  {
   "cell_type": "code",
   "execution_count": null,
   "id": "e8e863b5",
   "metadata": {},
   "outputs": [],
   "source": []
  }
 ],
 "metadata": {
  "kernelspec": {
   "display_name": "Python 3 (ipykernel)",
   "language": "python",
   "name": "python3"
  },
  "language_info": {
   "codemirror_mode": {
    "name": "ipython",
    "version": 3
   },
   "file_extension": ".py",
   "mimetype": "text/x-python",
   "name": "python",
   "nbconvert_exporter": "python",
   "pygments_lexer": "ipython3",
   "version": "3.9.7"
  }
 },
 "nbformat": 4,
 "nbformat_minor": 5
}
